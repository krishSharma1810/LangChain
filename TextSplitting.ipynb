{
 "cells": [
  {
   "cell_type": "code",
   "execution_count": 13,
   "metadata": {},
   "outputs": [],
   "source": [
    "from langchain.text_splitter import RecursiveCharacterTextSplitter\n",
    "from langchain.text_splitter import CharacterTextSplitter\n",
    "from langchain.text_splitter import HTMLHeaderTextSplitter\n",
    "from langchain.text_splitter import RecursiveJsonSplitter\n",
    "from langchain_community.document_loaders import TextLoader\n",
    "import json"
   ]
  },
  {
   "cell_type": "code",
   "execution_count": 21,
   "metadata": {},
   "outputs": [],
   "source": [
    "loader=TextLoader('speech.txt')\n",
    "loader\n",
    "text_speech=loader.load()"
   ]
  },
  {
   "cell_type": "code",
   "execution_count": 22,
   "metadata": {},
   "outputs": [],
   "source": [
    "text_speech = text_speech[0].page_content  "
   ]
  },
  {
   "cell_type": "code",
   "execution_count": 23,
   "metadata": {},
   "outputs": [
    {
     "name": "stdout",
     "output_type": "stream",
     "text": [
      "[\"If you're visiting this page, you're likely here\", \"here because you're searching for a random\", 'a random sentence. Sometimes a random word just', \"word just isn't enough, and that is where the\", 'where the random sentence generator comes into', 'into play. By inputting the desired number, you', 'you can make a list of as many random sentences', 'sentences as you want or need. Producing random', 'random sentences can be helpful in a number of', 'number of different ways.', 'For writers, a random sentence can help them get', 'them get their creative juices flowing. Since the', 'Since the topic of the sentence is completely', 'unknown, it forces the writer to be creative when', 'when the sentence appears. There are a number of', 'number of different ways a writer can use the', 'use the random sentence for creativity. The most', 'The most common way to use the sentence is to', 'is to begin a story. Another option is to include', 'include it somewhere in the story. A much more', 'much more difficult challenge is to use it to end', 'it to end a story. In any of these cases, it', 'cases, it forces the writer to think creatively', 'since they have no idea what sentence will appear', 'appear from the tool.', \"For those writers who have writers' block, this\", 'this can be an excellent way to take a step to', 'a step to crumbling those walls. By taking the', 'the writer away from the subject matter that is', 'that is causing the block, a random sentence may', \"may allow them to see the project they're working\", 'working on in a different light and perspective.', 'Sometimes all it takes is to get that first', 'first sentence down to help break the block.If', \"block.If you're visiting this page, you're likely\", \"likely here because you're searching for a random\", 'a random sentence. Sometimes a random word just', \"word just isn't enough, and that is where the\", 'where the random sentence generator comes into', 'into play. By inputting the desired number, you', 'you can make a list of as many random sentences', 'sentences as you want or need. Producing random', 'random sentences can be helpful in a number of', 'number of different ways.', 'For writers, a random sentence can help them get', 'them get their creative juices flowing. Since the', 'Since the topic of the sentence is completely', 'unknown, it forces the writer to be creative when', 'when the sentence appears. There are a number of', 'number of different ways a writer can use the', 'use the random sentence for creativity. The most', 'The most common way to use the sentence is to', 'is to begin a story. Another option is to include', 'include it somewhere in the story. A much more', 'much more difficult challenge is to use it to end', 'it to end a story. In any of these cases, it', 'cases, it forces the writer to think creatively', 'since they have no idea what sentence will appear', 'appear from the tool.', \"For those writers who have writers' block, this\", 'this can be an excellent way to take a step to', 'a step to crumbling those walls. By taking the', 'the writer away from the subject matter that is', 'that is causing the block, a random sentence may', \"may allow them to see the project they're working\", 'working on in a different light and perspective.', 'Sometimes all it takes is to get that first', 'first sentence down to help break the block.']\n"
     ]
    }
   ],
   "source": [
    "splitter_1 = RecursiveCharacterTextSplitter(chunk_size=50, chunk_overlap=10)\n",
    "RCS_chunks = splitter_1.split_text(text_speech)\n",
    "\n",
    "print(RCS_chunks)  # Output: Smaller text chunks"
   ]
  },
  {
   "cell_type": "code",
   "execution_count": 26,
   "metadata": {},
   "outputs": [
    {
     "name": "stderr",
     "output_type": "stream",
     "text": [
      "Created a chunk of size 594, which is longer than the specified 500\n",
      "Created a chunk of size 760, which is longer than the specified 500\n",
      "Created a chunk of size 594, which is longer than the specified 500\n"
     ]
    },
    {
     "name": "stdout",
     "output_type": "stream",
     "text": [
      "[\"If you're visiting this page, you're likely here because you're searching for a random sentence. Sometimes a random word just isn't enough, and that is where the random sentence generator comes into play. By inputting the desired number, you can make a list of as many random sentences as you want or need. Producing random sentences can be helpful in a number of different ways.\", 'For writers, a random sentence can help them get their creative juices flowing. Since the topic of the sentence is completely unknown, it forces the writer to be creative when the sentence appears. There are a number of different ways a writer can use the random sentence for creativity. The most common way to use the sentence is to begin a story. Another option is to include it somewhere in the story. A much more difficult challenge is to use it to end a story. In any of these cases, it forces the writer to think creatively since they have no idea what sentence will appear from the tool.', \"For those writers who have writers' block, this can be an excellent way to take a step to crumbling those walls. By taking the writer away from the subject matter that is causing the block, a random sentence may allow them to see the project they're working on in a different light and perspective. Sometimes all it takes is to get that first sentence down to help break the block.If you're visiting this page, you're likely here because you're searching for a random sentence. Sometimes a random word just isn't enough, and that is where the random sentence generator comes into play. By inputting the desired number, you can make a list of as many random sentences as you want or need. Producing random sentences can be helpful in a number of different ways.\", 'For writers, a random sentence can help them get their creative juices flowing. Since the topic of the sentence is completely unknown, it forces the writer to be creative when the sentence appears. There are a number of different ways a writer can use the random sentence for creativity. The most common way to use the sentence is to begin a story. Another option is to include it somewhere in the story. A much more difficult challenge is to use it to end a story. In any of these cases, it forces the writer to think creatively since they have no idea what sentence will appear from the tool.', \"For those writers who have writers' block, this can be an excellent way to take a step to crumbling those walls. By taking the writer away from the subject matter that is causing the block, a random sentence may allow them to see the project they're working on in a different light and perspective. Sometimes all it takes is to get that first sentence down to help break the block.\"]\n"
     ]
    }
   ],
   "source": [
    "splitter_2 = CharacterTextSplitter(chunk_size=500, chunk_overlap=500)\n",
    "CS_chunks = splitter_2.split_text(text_speech)\n",
    "\n",
    "print(CS_chunks)"
   ]
  },
  {
   "cell_type": "code",
   "execution_count": 25,
   "metadata": {},
   "outputs": [
    {
     "name": "stdout",
     "output_type": "stream",
     "text": [
      "[Document(metadata={}, page_content='This is the first section.  \\nHere we discuss methods.')]\n"
     ]
    }
   ],
   "source": [
    "html_text = \"<h1>Introduction</h1><p>This is the first section.</p><h2>Methods</h2><p>Here we discuss methods.</p>\"\n",
    "\n",
    "splitter_3 = HTMLHeaderTextSplitter(headers_to_split_on=[\"h1\", \"h2\"])\n",
    "HTML_chunks = splitter_3.split_text(html_text)\n",
    "\n",
    "print(HTML_chunks)"
   ]
  },
  {
   "cell_type": "code",
   "execution_count": 9,
   "metadata": {},
   "outputs": [
    {
     "name": "stdout",
     "output_type": "stream",
     "text": [
      "[{'title': 'LangChain', 'content': 'Text splitting is essential.'}, {'sections': {'part1': 'Intro', 'part2': 'Details'}}]\n"
     ]
    }
   ],
   "source": [
    "json_data = '{\"title\": \"LangChain\", \"content\": \"Text splitting is essential.\", \"sections\": {\"part1\": \"Intro\", \"part2\": \"Details\"}}'\n",
    "data = json.loads(json_data)\n",
    "\n",
    "splitter_4 = RecursiveJsonSplitter(max_chunk_size=50)\n",
    "JSON_chunks = splitter_4.split_json(data)\n",
    "\n",
    "print(JSON_chunks)"
   ]
  }
 ],
 "metadata": {
  "kernelspec": {
   "display_name": "chatEnv",
   "language": "python",
   "name": "python3"
  },
  "language_info": {
   "codemirror_mode": {
    "name": "ipython",
    "version": 3
   },
   "file_extension": ".py",
   "mimetype": "text/x-python",
   "name": "python",
   "nbconvert_exporter": "python",
   "pygments_lexer": "ipython3",
   "version": "3.10.16"
  }
 },
 "nbformat": 4,
 "nbformat_minor": 2
}
