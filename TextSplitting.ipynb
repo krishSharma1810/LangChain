{
 "cells": [
  {
   "cell_type": "code",
   "execution_count": null,
   "metadata": {},
   "outputs": [],
   "source": [
    "from langchain.text_splitter import RecursiveCharacterTextSplitter\n",
    "from langchain.text_splitter import CharacterTextSplitter\n",
    "from langchain.text_splitter import HTMLHeaderTextSplitter\n",
    "from langchain.text_splitter import RecursiveJsonSplitter\n",
    "import json"
   ]
  },
  {
   "cell_type": "code",
   "execution_count": null,
   "metadata": {},
   "outputs": [],
   "source": [
    "text = \"This is a sample document. It contains multiple sentences. LangChain helps process text efficiently.\""
   ]
  },
  {
   "cell_type": "code",
   "execution_count": null,
   "metadata": {},
   "outputs": [],
   "source": [
    "splitter_1 = RecursiveCharacterTextSplitter(chunk_size=50, chunk_overlap=10)\n",
    "RCS_chunks = splitter_1.split_text(text)\n",
    "\n",
    "print(RSC_chunks)  # Output: Smaller text chunks"
   ]
  },
  {
   "cell_type": "code",
   "execution_count": null,
   "metadata": {},
   "outputs": [],
   "source": [
    "splitter_2 = CharacterTextSplitter(chunk_size=100, chunk_overlap=20)\n",
    "CS_chunks = splitter_2.split_text(text)\n",
    "\n",
    "print(CS_chucks)"
   ]
  },
  {
   "cell_type": "code",
   "execution_count": null,
   "metadata": {},
   "outputs": [],
   "source": [
    "html_text = \"<h1>Introduction</h1><p>This is the first section.</p><h2>Methods</h2><p>Here we discuss methods.</p>\"\n",
    "\n",
    "splitter_3 = HTMLHeaderTextSplitter(headers_to_split_on=[\"h1\", \"h2\"])\n",
    "HTML_chunks = splitter_3.split_text(html_text)\n",
    "\n",
    "print(HTML_chunks)"
   ]
  },
  {
   "cell_type": "code",
   "execution_count": null,
   "metadata": {},
   "outputs": [],
   "source": [
    "json_data = '{\"title\": \"LangChain\", \"content\": \"Text splitting is essential.\", \"sections\": {\"part1\": \"Intro\", \"part2\": \"Details\"}}'\n",
    "data = json.loads(json_data)\n",
    "\n",
    "splitter_4 = RecursiveJsonSplitter(max_chunk_size=50)\n",
    "JSON_chunks = splitter_4.split_json(data)\n",
    "\n",
    "print(JSON_chunks)"
   ]
  }
 ],
 "metadata": {
  "kernelspec": {
   "display_name": "hugLangEnv",
   "language": "python",
   "name": "python3"
  },
  "language_info": {
   "name": "python",
   "version": "3.10.0"
  }
 },
 "nbformat": 4,
 "nbformat_minor": 2
}
